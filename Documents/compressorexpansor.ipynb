{
 "cells": [
  {
   "cell_type": "code",
   "execution_count": 1,
   "metadata": {},
   "outputs": [],
   "source": [
    "import math\n",
    "import numpy as np\n",
    "import matplotlib.pyplot as plt\n",
    "from scipy.io.wavfile import read\n",
    "from scipy.io.wavfile import write\n",
    "import wave\n",
    "import IPython.display as ipd\n",
    "from PIL import Image\n",
    "from matplotlib import image"
   ]
  },
  {
   "cell_type": "code",
   "execution_count": 4,
   "metadata": {},
   "outputs": [
    {
     "data": {
      "image/png": "[encoded data removed]",
      "text/plain": [
       "<Figure size 432x288 with 1 Axes>"
      ]
     },
     "metadata": {
      "needs_background": "light"
     },
     "output_type": "display_data"
    }
   ],
   "source": [
    "\n",
    "audio = read(\"MaisUmaSemana.wav\")\n",
    "teste = np.array(audio[1], dtype = int) \n",
    "Xt = np.zeros(teste.size)\n",
    "c = 2\n",
    "\n",
    "N = teste.size\n",
    "# amplitude do k-ésimo cosseno\n",
    "Ak = math.sqrt(2/N)\n",
    "# c para o k = 0\n",
    "C0 = math.sqrt(0.5)\n",
    "# c para todos os outros k\n",
    "Ck = 1\n",
    "# resultado final do somatório\n",
    "somatorio = 0\n",
    "\n",
    "X = np.zeros(N, dtype = float)\n",
    "\n",
    "for k in range(N):\n",
    "\n",
    "    somatorio = 0\n",
    "    \n",
    "    for n in range(N):\n",
    "        valor1 = (2*math.pi*n*k)/(2*N)\n",
    "        valor2 = (k*math.pi)/(2*N)\n",
    "        somatorio += teste[n]*math.cos(valor1 + valor2)\n",
    "        \n",
    "    if k == 0:\n",
    "        X[k] = round(Ak*C0*somatorio, 5)\n",
    "    else:\n",
    "        X[k] = round(Ak*Ck*somatorio, 5)\n",
    "        \n",
    "\n",
    "for k in range(N):\n",
    "    if((k*c) < N):\n",
    "        Xt[round(k*c)] = X[k]\n",
    "    else:\n",
    "        Xt[k] = 0 \n",
    "\n",
    "x = np.zeros(N, dtype = float)\n",
    "teste = np.copy(Xt)\n",
    "\n",
    "if(c > 1):\n",
    "    for n in range(round(N/c)):\n",
    "\n",
    "        somatorio = 0\n",
    "\n",
    "        for k in range(N):\n",
    "            valor1 = (2*math.pi*n*k)/(2*N)\n",
    "            valor2 = (k*math.pi)/(2*N)\n",
    "\n",
    "            if k == 0:\n",
    "                somatorio += C0*teste[k]*math.cos(valor1 + valor2)\n",
    "            else:\n",
    "                somatorio += Ck*teste[k]*math.cos(valor1 + valor2)\n",
    "\n",
    "        x[n] = round(Ak*somatorio, 4)\n",
    "else:\n",
    "    for n in range(N):\n",
    "\n",
    "        somatorio = 0\n",
    "\n",
    "        for k in range(N):\n",
    "            valor1 = (2*math.pi*n*k)/(2*N)\n",
    "            valor2 = (k*math.pi)/(2*N)\n",
    "\n",
    "            if k == 0:\n",
    "                somatorio += C0*teste[k]*math.cos(valor1 + valor2)\n",
    "            else:\n",
    "                somatorio += Ck*teste[k]*math.cos(valor1 + valor2)\n",
    "\n",
    "        x[n] = round(Ak*somatorio, 4)\n",
    "    \n",
    "xInteiro = np.int16(x)\n",
    "write('compressadoGrande.wav', 44100, xInteiro)\n",
    "ipd.Audio('compressadoGrande.wav')\n",
    "plt.plot(x)\n",
    "plt.show()"
   ]
  },
  {
   "cell_type": "code",
   "execution_count": null,
   "metadata": {},
   "outputs": [],
   "source": []
  }
 ],
 "metadata": {
  "kernelspec": {
   "display_name": "Python 3",
   "language": "python",
   "name": "python3"
  },
  "language_info": {
   "codemirror_mode": {
    "name": "ipython",
    "version": 3
   },
   "file_extension": ".py",
   "mimetype": "text/x-python",
   "name": "python",
   "nbconvert_exporter": "python",
   "pygments_lexer": "ipython3",
   "version": "3.7.3"
  }
 },
 "nbformat": 4,
 "nbformat_minor": 2
}
